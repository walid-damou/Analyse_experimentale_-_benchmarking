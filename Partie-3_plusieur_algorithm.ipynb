{
 "cells": [
  {
   "cell_type": "code",
   "execution_count": null,
   "metadata": {},
   "outputs": [],
   "source": [
    "import numpy as np\n",
    "import matplotlib.pyplot as plt\n",
    "\n",
    "# Charger les données à partir du fichier data.txt\n",
    "with open('data/', 'r') as file:\n",
    "    lines = file.readlines()\n",
    "\n",
    "# Initialiser une liste pour stocker les performances par algorithme\n",
    "algorithm_performances = {}\n",
    "\n",
    "# Extrait les performances par algorithme\n",
    "current_algorithm_data = []\n",
    "current_algorithm_name = None\n",
    "for line in lines:\n",
    "    if line.strip() and line.startswith('%'):\n",
    "        if current_algorithm_name:\n",
    "            algorithm_performances[current_algorithm_name] = current_algorithm_data\n",
    "            current_algorithm_data = []\n",
    "        current_algorithm_name = line.strip().split('=')[0].strip()\n",
    "    elif line.strip():\n",
    "        parts = line.strip().split()\n",
    "        current_algorithm_data.append(float(parts[1]))\n",
    "\n",
    "# Ajouter le dernier algorithme\n",
    "if current_algorithm_name and current_algorithm_data:\n",
    "    algorithm_performances[current_algorithm_name] = current_algorithm_data\n",
    "\n",
    "# Tracer les boxplots des performances par algorithme\n",
    "plt.figure(figsize=(10, 6))\n",
    "plt.boxplot(list(algorithm_performances.values()), labels=list(algorithm_performances.keys()), patch_artist=True)\n",
    "plt.xlabel('Algorithme')\n",
    "plt.ylabel('Performance de l\\'algorithme')\n",
    "plt.title('Comparaison des performances des différents algorithmes')\n",
    "plt.grid(True)\n",
    "plt.show()\n"
   ]
  }
 ],
 "metadata": {
  "language_info": {
   "name": "python"
  }
 },
 "nbformat": 4,
 "nbformat_minor": 2
}
